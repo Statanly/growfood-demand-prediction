{
 "cells": [
  {
   "cell_type": "code",
   "execution_count": 15,
   "id": "cbdfef81-3a44-41c1-a9f6-94d9c48c791c",
   "metadata": {},
   "outputs": [],
   "source": [
    "import pandas as pd\n",
    "import matplotlib.pyplot as plt"
   ]
  },
  {
   "cell_type": "code",
   "execution_count": 3,
   "id": "2b8049c0-419f-4c95-b375-4fa4aec8f23e",
   "metadata": {},
   "outputs": [
    {
     "data": {
      "text/html": [
       "<div>\n",
       "<style scoped>\n",
       "    .dataframe tbody tr th:only-of-type {\n",
       "        vertical-align: middle;\n",
       "    }\n",
       "\n",
       "    .dataframe tbody tr th {\n",
       "        vertical-align: top;\n",
       "    }\n",
       "\n",
       "    .dataframe thead th {\n",
       "        text-align: right;\n",
       "    }\n",
       "</style>\n",
       "<table border=\"1\" class=\"dataframe\">\n",
       "  <thead>\n",
       "    <tr style=\"text-align: right;\">\n",
       "      <th></th>\n",
       "      <th>fourier_7_2_1</th>\n",
       "      <th>fourier_7_2_2</th>\n",
       "      <th>fourier_7_2_3</th>\n",
       "      <th>fourier_7_2_4</th>\n",
       "      <th>fourier_9_2_1</th>\n",
       "      <th>fourier_9_2_2</th>\n",
       "      <th>fourier_9_2_3</th>\n",
       "      <th>fourier_9_2_4</th>\n",
       "      <th>holiday_ru</th>\n",
       "      <th>lag_new_orders_count_2</th>\n",
       "      <th>lag_new_orders_count_7</th>\n",
       "      <th>lag_new_orders_count_9</th>\n",
       "      <th>lag_orders_count_5</th>\n",
       "      <th>lag_orders_count_6</th>\n",
       "      <th>lag_orders_count_7</th>\n",
       "      <th>mean_3</th>\n",
       "      <th>new_orders_count</th>\n",
       "      <th>orders_count</th>\n",
       "      <th>target</th>\n",
       "    </tr>\n",
       "  </thead>\n",
       "  <tbody>\n",
       "    <tr>\n",
       "      <th>0</th>\n",
       "      <td>0.000000</td>\n",
       "      <td>1.000000</td>\n",
       "      <td>0.000000</td>\n",
       "      <td>1.000000</td>\n",
       "      <td>0.000000</td>\n",
       "      <td>1.000000</td>\n",
       "      <td>0.000000</td>\n",
       "      <td>1.000000</td>\n",
       "      <td>0</td>\n",
       "      <td>0.0</td>\n",
       "      <td>0.0</td>\n",
       "      <td>0.0</td>\n",
       "      <td>0.0</td>\n",
       "      <td>0.0</td>\n",
       "      <td>0.0</td>\n",
       "      <td>294.000000</td>\n",
       "      <td>4.0</td>\n",
       "      <td>78.0</td>\n",
       "      <td>0.0</td>\n",
       "    </tr>\n",
       "    <tr>\n",
       "      <th>1</th>\n",
       "      <td>0.781831</td>\n",
       "      <td>0.623490</td>\n",
       "      <td>0.974928</td>\n",
       "      <td>-0.222521</td>\n",
       "      <td>0.642788</td>\n",
       "      <td>0.766044</td>\n",
       "      <td>0.984808</td>\n",
       "      <td>0.173648</td>\n",
       "      <td>0</td>\n",
       "      <td>0.0</td>\n",
       "      <td>0.0</td>\n",
       "      <td>0.0</td>\n",
       "      <td>0.0</td>\n",
       "      <td>0.0</td>\n",
       "      <td>0.0</td>\n",
       "      <td>237.500000</td>\n",
       "      <td>5.0</td>\n",
       "      <td>78.0</td>\n",
       "      <td>0.0</td>\n",
       "    </tr>\n",
       "    <tr>\n",
       "      <th>2</th>\n",
       "      <td>0.974928</td>\n",
       "      <td>-0.222521</td>\n",
       "      <td>-0.433884</td>\n",
       "      <td>-0.900969</td>\n",
       "      <td>0.984808</td>\n",
       "      <td>0.173648</td>\n",
       "      <td>0.342020</td>\n",
       "      <td>-0.939693</td>\n",
       "      <td>0</td>\n",
       "      <td>4.0</td>\n",
       "      <td>0.0</td>\n",
       "      <td>0.0</td>\n",
       "      <td>0.0</td>\n",
       "      <td>0.0</td>\n",
       "      <td>0.0</td>\n",
       "      <td>257.666667</td>\n",
       "      <td>6.0</td>\n",
       "      <td>92.0</td>\n",
       "      <td>0.0</td>\n",
       "    </tr>\n",
       "    <tr>\n",
       "      <th>3</th>\n",
       "      <td>0.433884</td>\n",
       "      <td>-0.900969</td>\n",
       "      <td>-0.781831</td>\n",
       "      <td>0.623490</td>\n",
       "      <td>0.866025</td>\n",
       "      <td>-0.500000</td>\n",
       "      <td>-0.866025</td>\n",
       "      <td>-0.500000</td>\n",
       "      <td>0</td>\n",
       "      <td>5.0</td>\n",
       "      <td>0.0</td>\n",
       "      <td>0.0</td>\n",
       "      <td>0.0</td>\n",
       "      <td>0.0</td>\n",
       "      <td>0.0</td>\n",
       "      <td>245.500000</td>\n",
       "      <td>5.0</td>\n",
       "      <td>64.0</td>\n",
       "      <td>0.0</td>\n",
       "    </tr>\n",
       "    <tr>\n",
       "      <th>4</th>\n",
       "      <td>-0.433884</td>\n",
       "      <td>-0.900969</td>\n",
       "      <td>0.781831</td>\n",
       "      <td>0.623490</td>\n",
       "      <td>0.342020</td>\n",
       "      <td>-0.939693</td>\n",
       "      <td>-0.642788</td>\n",
       "      <td>0.766044</td>\n",
       "      <td>0</td>\n",
       "      <td>6.0</td>\n",
       "      <td>0.0</td>\n",
       "      <td>0.0</td>\n",
       "      <td>0.0</td>\n",
       "      <td>0.0</td>\n",
       "      <td>0.0</td>\n",
       "      <td>253.400000</td>\n",
       "      <td>9.0</td>\n",
       "      <td>78.0</td>\n",
       "      <td>0.0</td>\n",
       "    </tr>\n",
       "  </tbody>\n",
       "</table>\n",
       "</div>"
      ],
      "text/plain": [
       "   fourier_7_2_1  fourier_7_2_2  fourier_7_2_3  fourier_7_2_4  fourier_9_2_1  \\\n",
       "0       0.000000       1.000000       0.000000       1.000000       0.000000   \n",
       "1       0.781831       0.623490       0.974928      -0.222521       0.642788   \n",
       "2       0.974928      -0.222521      -0.433884      -0.900969       0.984808   \n",
       "3       0.433884      -0.900969      -0.781831       0.623490       0.866025   \n",
       "4      -0.433884      -0.900969       0.781831       0.623490       0.342020   \n",
       "\n",
       "   fourier_9_2_2  fourier_9_2_3  fourier_9_2_4  holiday_ru  \\\n",
       "0       1.000000       0.000000       1.000000           0   \n",
       "1       0.766044       0.984808       0.173648           0   \n",
       "2       0.173648       0.342020      -0.939693           0   \n",
       "3      -0.500000      -0.866025      -0.500000           0   \n",
       "4      -0.939693      -0.642788       0.766044           0   \n",
       "\n",
       "   lag_new_orders_count_2  lag_new_orders_count_7  lag_new_orders_count_9  \\\n",
       "0                     0.0                     0.0                     0.0   \n",
       "1                     0.0                     0.0                     0.0   \n",
       "2                     4.0                     0.0                     0.0   \n",
       "3                     5.0                     0.0                     0.0   \n",
       "4                     6.0                     0.0                     0.0   \n",
       "\n",
       "   lag_orders_count_5  lag_orders_count_6  lag_orders_count_7      mean_3  \\\n",
       "0                 0.0                 0.0                 0.0  294.000000   \n",
       "1                 0.0                 0.0                 0.0  237.500000   \n",
       "2                 0.0                 0.0                 0.0  257.666667   \n",
       "3                 0.0                 0.0                 0.0  245.500000   \n",
       "4                 0.0                 0.0                 0.0  253.400000   \n",
       "\n",
       "   new_orders_count  orders_count  target  \n",
       "0               4.0          78.0     0.0  \n",
       "1               5.0          78.0     0.0  \n",
       "2               6.0          92.0     0.0  \n",
       "3               5.0          64.0     0.0  \n",
       "4               9.0          78.0     0.0  "
      ]
     },
     "execution_count": 3,
     "metadata": {},
     "output_type": "execute_result"
    }
   ],
   "source": [
    "df = pd.read_csv('data/train/ts.csv', skiprows=1)\n",
    "df.head()"
   ]
  },
  {
   "cell_type": "code",
   "execution_count": 48,
   "id": "d9697e1d-dc54-47b6-a946-5d15d0ff138d",
   "metadata": {},
   "outputs": [
    {
     "data": {
      "text/plain": [
       "<AxesSubplot:>"
      ]
     },
     "execution_count": 48,
     "metadata": {},
     "output_type": "execute_result"
    },
    {
     "data": {
      "image/png": "[encoded data removed]",
      "text/plain": [
       "<Figure size 432x288 with 1 Axes>"
      ]
     },
     "metadata": {
      "needs_background": "light"
     },
     "output_type": "display_data"
    }
   ],
   "source": [
    "df.target.hist()"
   ]
  },
  {
   "cell_type": "code",
   "execution_count": null,
   "id": "04d3324c-39ad-4647-922f-90f6876a2c78",
   "metadata": {},
   "outputs": [],
   "source": []
  },
  {
   "cell_type": "code",
   "execution_count": 56,
   "id": "1a2d9233-ba18-4caa-9fc9-886734cd147c",
   "metadata": {},
   "outputs": [
    {
     "data": {
      "text/plain": [
       "<AxesSubplot:>"
      ]
     },
     "execution_count": 56,
     "metadata": {},
     "output_type": "execute_result"
    },
    {
     "data": {
      "image/png": "[encoded data removed]",
      "text/plain": [
       "<Figure size 432x288 with 1 Axes>"
      ]
     },
     "metadata": {
      "needs_background": "light"
     },
     "output_type": "display_data"
    }
   ],
   "source": [
    "from sklearn.preprocessing import MinMaxScaler\n",
    "\n",
    "\n",
    "def minmax(s: pd.Series) -> pd.Series:\n",
    "    mn = s.min()\n",
    "    mx = s.max()\n",
    "    s = (s - mn) / (mx - mn)\n",
    "    return s\n",
    "\n",
    "\n",
    "df = df.assign(target=minmax(df.target))\n",
    "\n",
    "df.target.hist()"
   ]
  },
  {
   "cell_type": "code",
   "execution_count": 57,
   "id": "9169f655-ecb7-4b62-afc5-79f73843487b",
   "metadata": {},
   "outputs": [],
   "source": [
    "from sklearn.model_selection import train_test_split, cross_val_score\n",
    "from sklearn.metrics import mean_absolute_percentage_error\n",
    "from catboost import CatBoostRegressor"
   ]
  },
  {
   "cell_type": "code",
   "execution_count": 58,
   "id": "aa2407eb-bfb2-4ce9-9a3c-c022bbd2ee5d",
   "metadata": {},
   "outputs": [
    {
     "name": "stdout",
     "output_type": "stream",
     "text": [
      "0:\tlearn: 0.2065569\ttest: 0.1860867\tbest: 0.1860867 (0)\ttotal: 561us\tremaining: 168ms\n",
      "30:\tlearn: 0.0917623\ttest: 0.1207012\tbest: 0.1207012 (30)\ttotal: 51.1ms\tremaining: 443ms\n",
      "60:\tlearn: 0.0430327\ttest: 0.1005625\tbest: 0.1005625 (60)\ttotal: 105ms\tremaining: 411ms\n",
      "90:\tlearn: 0.0216347\ttest: 0.0931659\tbest: 0.0931659 (90)\ttotal: 162ms\tremaining: 372ms\n",
      "120:\tlearn: 0.0111033\ttest: 0.0905551\tbest: 0.0905551 (120)\ttotal: 227ms\tremaining: 335ms\n",
      "150:\tlearn: 0.0059748\ttest: 0.0898336\tbest: 0.0898276 (149)\ttotal: 286ms\tremaining: 282ms\n",
      "180:\tlearn: 0.0031350\ttest: 0.0898985\tbest: 0.0898137 (153)\ttotal: 345ms\tremaining: 227ms\n",
      "210:\tlearn: 0.0016184\ttest: 0.0899248\tbest: 0.0898137 (153)\ttotal: 408ms\tremaining: 172ms\n",
      "240:\tlearn: 0.0008451\ttest: 0.0899587\tbest: 0.0898137 (153)\ttotal: 476ms\tremaining: 116ms\n",
      "270:\tlearn: 0.0004493\ttest: 0.0899530\tbest: 0.0898137 (153)\ttotal: 544ms\tremaining: 58.2ms\n",
      "299:\tlearn: 0.0002602\ttest: 0.0899597\tbest: 0.0898137 (153)\ttotal: 610ms\tremaining: 0us\n",
      "\n",
      "bestTest = 0.08981373072\n",
      "bestIteration = 153\n",
      "\n",
      "Shrink model to first 154 iterations.\n"
     ]
    },
    {
     "data": {
      "text/plain": [
       "0.23548352173353546"
      ]
     },
     "execution_count": 58,
     "metadata": {},
     "output_type": "execute_result"
    }
   ],
   "source": [
    "i = 300\n",
    "\n",
    "model = CatBoostRegressor(\n",
    "    iterations=i,\n",
    "    # learning_rate=0.9,\n",
    "    depth=10,\n",
    "    loss_function='MAPE',\n",
    "    verbose=i // 10\n",
    ")\n",
    "\n",
    "x, y = df.drop('target', axis=1), df.target\n",
    "\n",
    "train_x, test_x, train_y, test_y = train_test_split(x, y, test_size=0.3)\n",
    "\n",
    "model.fit(train_x, train_y, eval_set=(test_x, test_y), use_best_model=True)\n",
    "preds = model.predict(test_x)\n",
    "mean_absolute_percentage_error(test_y, preds)"
   ]
  },
  {
   "cell_type": "code",
   "execution_count": 59,
   "id": "e1bcd19d-1402-4ade-b8ce-5a3c8ece246a",
   "metadata": {},
   "outputs": [
    {
     "data": {
      "image/png": "[encoded data removed]",
      "text/plain": [
       "<Figure size 432x288 with 1 Axes>"
      ]
     },
     "metadata": {
      "needs_background": "light"
     },
     "output_type": "display_data"
    }
   ],
   "source": [
    "plt.hist(preds, bins=50, alpha=0.5)\n",
    "plt.hist(test_y, bins=50, alpha=0.5)\n",
    "plt.show()"
   ]
  },
  {
   "cell_type": "markdown",
   "id": "7f05a28f-9f4b-4be8-979b-f74d6e95d887",
   "metadata": {},
   "source": [
    "# knn"
   ]
  },
  {
   "cell_type": "code",
   "execution_count": 60,
   "id": "72b02110-3a16-499b-bb8a-dec695c0e22b",
   "metadata": {},
   "outputs": [],
   "source": [
    "from sklearn.neighbors import KNeighborsRegressor"
   ]
  },
  {
   "cell_type": "code",
   "execution_count": 61,
   "id": "374bff02-d3f6-4dc8-8815-c6e432b694b5",
   "metadata": {},
   "outputs": [
    {
     "data": {
      "text/plain": [
       "0.5872361743108654"
      ]
     },
     "execution_count": 61,
     "metadata": {},
     "output_type": "execute_result"
    }
   ],
   "source": [
    "model = KNeighborsRegressor(n_neighbors=5)\n",
    "\n",
    "model.fit(train_x, train_y)\n",
    "\n",
    "preds = model.predict(test_x)\n",
    "mean_absolute_percentage_error(test_y, preds)"
   ]
  },
  {
   "cell_type": "code",
   "execution_count": 62,
   "id": "4161de7b-850d-48da-a83e-cf328e47dd25",
   "metadata": {},
   "outputs": [
    {
     "data": {
      "image/png": "[encoded data removed]",
      "text/plain": [
       "<Figure size 432x288 with 1 Axes>"
      ]
     },
     "metadata": {
      "needs_background": "light"
     },
     "output_type": "display_data"
    }
   ],
   "source": [
    "plt.hist(preds, bins=50, alpha=0.5)\n",
    "plt.hist(test_y, bins=50, alpha=0.5)\n",
    "plt.show()"
   ]
  },
  {
   "cell_type": "code",
   "execution_count": null,
   "id": "4b98aaae-8069-4c62-8994-d302ab43fde4",
   "metadata": {},
   "outputs": [],
   "source": []
  }
 ],
 "metadata": {
  "kernelspec": {
   "display_name": "Python 3 (ipykernel)",
   "language": "python",
   "name": "python3"
  },
  "language_info": {
   "codemirror_mode": {
    "name": "ipython",
    "version": 3
   },
   "file_extension": ".py",
   "mimetype": "text/x-python",
   "name": "python",
   "nbconvert_exporter": "python",
   "pygments_lexer": "ipython3",
   "version": "3.9.12"
  }
 },
 "nbformat": 4,
 "nbformat_minor": 5
}
