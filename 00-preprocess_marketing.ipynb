{
 "cells": [
  {
   "cell_type": "code",
   "execution_count": 1,
   "id": "12335314-7863-4747-a913-cef53774dbd2",
   "metadata": {},
   "outputs": [],
   "source": [
    "from pathlib import Path\n",
    "import pandas as pd"
   ]
  },
  {
   "cell_type": "code",
   "execution_count": 2,
   "id": "4fcd64ad-95e1-4dfc-8868-f5a6c7829ba0",
   "metadata": {},
   "outputs": [],
   "source": [
    "def flat_table(table: pd.DataFrame, city_id: int) -> pd.DataFrame:\n",
    "    # makes table (date, product_name, city_id) from (date, product1, ... product_i)\n",
    "    dfs = []\n",
    "\n",
    "    cols = table.columns.tolist()[1:]\n",
    "    for col in cols:\n",
    "        d = table[['date', col]].rename({col: 'count'}, axis=1)\n",
    "        fvi = d['count'].first_valid_index()\n",
    "        d = d.iloc[fvi:].fillna(0)\n",
    "        d = d.assign(product_name=col)\n",
    "        \n",
    "        if len(d) == 0:\n",
    "            continue\n",
    "        dfs.append(d)\n",
    "    \n",
    "    df = pd.concat(dfs, axis=0)\n",
    "    df = df.assign(city_id=city_id)\n",
    "    return df"
   ]
  },
  {
   "cell_type": "code",
   "execution_count": 3,
   "id": "31ac0bcb-127b-42d5-8631-b1d4c2f47445",
   "metadata": {},
   "outputs": [],
   "source": [
    "def load_sheet(file: pd.ExcelFile, name: str) -> pd.DataFrame:\n",
    "    df = pd.read_excel(file, name)\n",
    "    return df"
   ]
  },
  {
   "cell_type": "code",
   "execution_count": 4,
   "id": "4306d77e-b5e6-4136-8989-a1d079ea285f",
   "metadata": {},
   "outputs": [],
   "source": [
    "def sheet2table(df: pd.DataFrame) -> pd.DataFrame:\n",
    "    df = df.rename(columns={'Календарь - Дата': 'date'})\n",
    "    headers = df.columns.tolist()\n",
    "\n",
    "    df = df.iloc[1:]\n",
    "    df = df.assign(date=pd.to_datetime(df.date))\n",
    "\n",
    "    # make msk table\n",
    "    try:\n",
    "        msk_last_col_ix = 3 + headers[3:].index('fit')\n",
    "    except ValueError:\n",
    "        msk_last_col_ix = 3 + headers[3:].index('fit.1')\n",
    "        \n",
    "    table_msk = df.iloc[:, :msk_last_col_ix]\n",
    "\n",
    "    # make spb table\n",
    "    table_spb = df.iloc[:, msk_last_col_ix:]\n",
    "    assert table_spb.columns.tolist()[0].startswith('fit'), table_spb.columns.tolist()\n",
    "    table_spb = pd.concat((df.date, table_spb), axis=1)\n",
    "\n",
    "    # merge\n",
    "    msk = flat_table(table_msk, city_id=2)\n",
    "    spb = flat_table(table_spb, city_id=1)\n",
    "\n",
    "    table = pd.concat((msk, spb))\n",
    "    # \".1\" adds cause of duplicating columns names\n",
    "    drop_dot1 = lambda s: s[:-2] if s.endswith('.1') else s\n",
    "    table = table.assign(product_name=table.product_name.apply(drop_dot1))\n",
    "    \n",
    "    return table"
   ]
  },
  {
   "cell_type": "markdown",
   "id": "e916649a-09bb-471e-9b27-ea542385617c",
   "metadata": {
    "tags": []
   },
   "source": [
    "---\n",
    "# Внешние факторы"
   ]
  },
  {
   "cell_type": "code",
   "execution_count": 5,
   "id": "966f10a3-3de7-4ae1-b96f-e784e7e4a256",
   "metadata": {},
   "outputs": [
    {
     "data": {
      "text/plain": [
       "['orders_count',\n",
       " 'new_orders_count',\n",
       " 'custom_orders_rate',\n",
       " 'discounts',\n",
       " 'boxes_per_delivery',\n",
       " 'fooddays_per_order']"
      ]
     },
     "execution_count": 5,
     "metadata": {},
     "output_type": "execute_result"
    }
   ],
   "source": [
    "# 4 page excel\n",
    "file = pd.ExcelFile('data/raw/Внешние факторы_v121222_clear.xlsx')\n",
    "sheets = file.sheet_names\n",
    "sheets"
   ]
  },
  {
   "cell_type": "code",
   "execution_count": 6,
   "id": "1ab8a8aa-54c5-4f30-b28d-77c7c36cd933",
   "metadata": {},
   "outputs": [],
   "source": [
    "root = Path('data/processed/')"
   ]
  },
  {
   "cell_type": "code",
   "execution_count": 7,
   "id": "a4accfe6-64fc-4e4e-acee-822d2276404c",
   "metadata": {},
   "outputs": [
    {
     "name": "stdout",
     "output_type": "stream",
     "text": [
      "orders_count\n",
      "new_orders_count\n",
      "custom_orders_rate\n",
      "discounts\n",
      "boxes_per_delivery\n",
      "fooddays_per_order\n"
     ]
    }
   ],
   "source": [
    "for sheet in sheets:\n",
    "    print(sheet)\n",
    "    df = load_sheet(file, sheet)\n",
    "    df = sheet2table(df)\n",
    "    df.to_csv(root / f'{sheet}.csv', index=False)"
   ]
  },
  {
   "cell_type": "code",
   "execution_count": 8,
   "id": "bad15952-b7d7-4b85-8791-9dc910729ab5",
   "metadata": {},
   "outputs": [
    {
     "data": {
      "text/html": [
       "<div>\n",
       "<style scoped>\n",
       "    .dataframe tbody tr th:only-of-type {\n",
       "        vertical-align: middle;\n",
       "    }\n",
       "\n",
       "    .dataframe tbody tr th {\n",
       "        vertical-align: top;\n",
       "    }\n",
       "\n",
       "    .dataframe thead th {\n",
       "        text-align: right;\n",
       "    }\n",
       "</style>\n",
       "<table border=\"1\" class=\"dataframe\">\n",
       "  <thead>\n",
       "    <tr style=\"text-align: right;\">\n",
       "      <th></th>\n",
       "      <th>date</th>\n",
       "      <th>count</th>\n",
       "      <th>product_name</th>\n",
       "      <th>city_id</th>\n",
       "    </tr>\n",
       "  </thead>\n",
       "  <tbody>\n",
       "    <tr>\n",
       "      <th>44784</th>\n",
       "      <td>2020-06-26</td>\n",
       "      <td>2.94</td>\n",
       "      <td>daily</td>\n",
       "      <td>1</td>\n",
       "    </tr>\n",
       "    <tr>\n",
       "      <th>8210</th>\n",
       "      <td>2022-07-21</td>\n",
       "      <td>0</td>\n",
       "      <td>daily plus</td>\n",
       "      <td>2</td>\n",
       "    </tr>\n",
       "    <tr>\n",
       "      <th>41448</th>\n",
       "      <td>2022-10-12</td>\n",
       "      <td>2.55</td>\n",
       "      <td>power</td>\n",
       "      <td>1</td>\n",
       "    </tr>\n",
       "    <tr>\n",
       "      <th>61950</th>\n",
       "      <td>2022-03-24</td>\n",
       "      <td>0</td>\n",
       "      <td>dsv</td>\n",
       "      <td>1</td>\n",
       "    </tr>\n",
       "  </tbody>\n",
       "</table>\n",
       "</div>"
      ],
      "text/plain": [
       "             date count product_name  city_id\n",
       "44784  2020-06-26  2.94        daily        1\n",
       "8210   2022-07-21     0   daily plus        2\n",
       "41448  2022-10-12  2.55        power        1\n",
       "61950  2022-03-24     0          dsv        1"
      ]
     },
     "execution_count": 8,
     "metadata": {},
     "output_type": "execute_result"
    }
   ],
   "source": [
    "# postprocess\n",
    "\n",
    "fooddays_per_order = pd.read_csv(root / 'fooddays_per_order.csv')\n",
    "fooddays_per_order.sample(4)"
   ]
  },
  {
   "cell_type": "code",
   "execution_count": 20,
   "id": "2ea1925a-01b8-44f9-a9d2-666f5e30d086",
   "metadata": {},
   "outputs": [
    {
     "data": {
      "text/plain": [
       "0.01228431104398806"
      ]
     },
     "execution_count": 20,
     "metadata": {},
     "output_type": "execute_result"
    }
   ],
   "source": [
    "t = fooddays_per_order\n",
    "val = '   ,'\n",
    "len(t[t['count'] == val]) / len(t)"
   ]
  },
  {
   "cell_type": "code",
   "execution_count": 21,
   "id": "c2d74f88-4c94-41a0-ab74-14dacc729643",
   "metadata": {},
   "outputs": [],
   "source": [
    "fooddays_per_order = fooddays_per_order[fooddays_per_order['count'] != val]\n",
    "fooddays_per_order.to_csv(root / 'fooddays_per_order.csv', index=False)"
   ]
  },
  {
   "cell_type": "markdown",
   "id": "f8c33e39-968c-4e2a-a67f-e0e9daf6eb55",
   "metadata": {},
   "source": [
    "# merge to one table"
   ]
  },
  {
   "cell_type": "code",
   "execution_count": null,
   "id": "f5e8d0ab-1447-430f-9f5e-803e2ec0f5d1",
   "metadata": {},
   "outputs": [],
   "source": []
  }
 ],
 "metadata": {
  "kernelspec": {
   "display_name": "Python 3 (ipykernel)",
   "language": "python",
   "name": "python3"
  },
  "language_info": {
   "codemirror_mode": {
    "name": "ipython",
    "version": 3
   },
   "file_extension": ".py",
   "mimetype": "text/x-python",
   "name": "python",
   "nbconvert_exporter": "python",
   "pygments_lexer": "ipython3",
   "version": "3.9.12"
  }
 },
 "nbformat": 4,
 "nbformat_minor": 5
}
