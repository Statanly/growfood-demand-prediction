{
 "cells": [
  {
   "cell_type": "code",
   "execution_count": 1,
   "id": "32ca18f8-e332-4ac8-8251-ec52a7280a8b",
   "metadata": {},
   "outputs": [],
   "source": [
    "from pathlib import Path\n",
    "import matplotlib.pyplot as plt\n",
    "import pandas as pd\n",
    "\n",
    "import warnings\n",
    "\n",
    "warnings.filterwarnings(\"ignore\")"
   ]
  },
  {
   "cell_type": "markdown",
   "id": "7b6d462c-b9ea-41a9-b973-0eea12dc57a6",
   "metadata": {
    "tags": []
   },
   "source": [
    "# load data"
   ]
  },
  {
   "cell_type": "code",
   "execution_count": 2,
   "id": "62988e24-dee2-48eb-b9da-f9e1c8c69e46",
   "metadata": {},
   "outputs": [],
   "source": [
    "root = Path('data/processed/')"
   ]
  },
  {
   "cell_type": "code",
   "execution_count": 3,
   "id": "2ed2264c-a8ea-4928-aacc-b956cb600164",
   "metadata": {},
   "outputs": [
    {
     "data": {
      "text/html": [
       "<div>\n",
       "<style scoped>\n",
       "    .dataframe tbody tr th:only-of-type {\n",
       "        vertical-align: middle;\n",
       "    }\n",
       "\n",
       "    .dataframe tbody tr th {\n",
       "        vertical-align: top;\n",
       "    }\n",
       "\n",
       "    .dataframe thead th {\n",
       "        text-align: right;\n",
       "    }\n",
       "</style>\n",
       "<table border=\"1\" class=\"dataframe\">\n",
       "  <thead>\n",
       "    <tr style=\"text-align: right;\">\n",
       "      <th></th>\n",
       "      <th>date</th>\n",
       "      <th>count</th>\n",
       "      <th>product_name</th>\n",
       "      <th>city_id</th>\n",
       "    </tr>\n",
       "  </thead>\n",
       "  <tbody>\n",
       "    <tr>\n",
       "      <th>0</th>\n",
       "      <td>2017-01-01</td>\n",
       "      <td>1</td>\n",
       "      <td>fit</td>\n",
       "      <td>2</td>\n",
       "    </tr>\n",
       "    <tr>\n",
       "      <th>1</th>\n",
       "      <td>2017-01-03</td>\n",
       "      <td>144</td>\n",
       "      <td>fit</td>\n",
       "      <td>2</td>\n",
       "    </tr>\n",
       "    <tr>\n",
       "      <th>2</th>\n",
       "      <td>2017-01-04</td>\n",
       "      <td>0</td>\n",
       "      <td>fit</td>\n",
       "      <td>2</td>\n",
       "    </tr>\n",
       "  </tbody>\n",
       "</table>\n",
       "</div>"
      ],
      "text/plain": [
       "         date  count product_name  city_id\n",
       "0  2017-01-01      1          fit        2\n",
       "1  2017-01-03    144          fit        2\n",
       "2  2017-01-04      0          fit        2"
      ]
     },
     "execution_count": 3,
     "metadata": {},
     "output_type": "execute_result"
    }
   ],
   "source": [
    "orders_count = pd.read_csv(root / 'orders_count.csv')\n",
    "orders_count.head(3)"
   ]
  },
  {
   "cell_type": "code",
   "execution_count": 4,
   "id": "5542ed13-3a54-4afd-980d-81ee8c895bb8",
   "metadata": {},
   "outputs": [
    {
     "data": {
      "text/html": [
       "<div>\n",
       "<style scoped>\n",
       "    .dataframe tbody tr th:only-of-type {\n",
       "        vertical-align: middle;\n",
       "    }\n",
       "\n",
       "    .dataframe tbody tr th {\n",
       "        vertical-align: top;\n",
       "    }\n",
       "\n",
       "    .dataframe thead th {\n",
       "        text-align: right;\n",
       "    }\n",
       "</style>\n",
       "<table border=\"1\" class=\"dataframe\">\n",
       "  <thead>\n",
       "    <tr style=\"text-align: right;\">\n",
       "      <th></th>\n",
       "      <th>date</th>\n",
       "      <th>count</th>\n",
       "      <th>product_name</th>\n",
       "      <th>city_id</th>\n",
       "    </tr>\n",
       "  </thead>\n",
       "  <tbody>\n",
       "    <tr>\n",
       "      <th>0</th>\n",
       "      <td>2017-01-03</td>\n",
       "      <td>22</td>\n",
       "      <td>fit</td>\n",
       "      <td>2</td>\n",
       "    </tr>\n",
       "    <tr>\n",
       "      <th>1</th>\n",
       "      <td>2017-01-04</td>\n",
       "      <td>0</td>\n",
       "      <td>fit</td>\n",
       "      <td>2</td>\n",
       "    </tr>\n",
       "    <tr>\n",
       "      <th>2</th>\n",
       "      <td>2017-01-06</td>\n",
       "      <td>4</td>\n",
       "      <td>fit</td>\n",
       "      <td>2</td>\n",
       "    </tr>\n",
       "  </tbody>\n",
       "</table>\n",
       "</div>"
      ],
      "text/plain": [
       "         date  count product_name  city_id\n",
       "0  2017-01-03     22          fit        2\n",
       "1  2017-01-04      0          fit        2\n",
       "2  2017-01-06      4          fit        2"
      ]
     },
     "execution_count": 4,
     "metadata": {},
     "output_type": "execute_result"
    }
   ],
   "source": [
    "new_orders_count = pd.read_csv(root / 'new_orders_count.csv')\n",
    "new_orders_count.head(3)"
   ]
  },
  {
   "cell_type": "code",
   "execution_count": 5,
   "id": "298077d2-64d5-4c24-89f2-aaa1b212a4be",
   "metadata": {},
   "outputs": [
    {
     "data": {
      "text/html": [
       "<div>\n",
       "<style scoped>\n",
       "    .dataframe tbody tr th:only-of-type {\n",
       "        vertical-align: middle;\n",
       "    }\n",
       "\n",
       "    .dataframe tbody tr th {\n",
       "        vertical-align: top;\n",
       "    }\n",
       "\n",
       "    .dataframe thead th {\n",
       "        text-align: right;\n",
       "    }\n",
       "</style>\n",
       "<table border=\"1\" class=\"dataframe\">\n",
       "  <thead>\n",
       "    <tr style=\"text-align: right;\">\n",
       "      <th></th>\n",
       "      <th>count</th>\n",
       "      <th>planned_delivery_date</th>\n",
       "      <th>city_id</th>\n",
       "      <th>production_type_id</th>\n",
       "      <th>name</th>\n",
       "    </tr>\n",
       "  </thead>\n",
       "  <tbody>\n",
       "    <tr>\n",
       "      <th>0</th>\n",
       "      <td>34</td>\n",
       "      <td>2022-10-27</td>\n",
       "      <td>2</td>\n",
       "      <td>185</td>\n",
       "      <td>elementaree_1</td>\n",
       "    </tr>\n",
       "    <tr>\n",
       "      <th>1</th>\n",
       "      <td>168</td>\n",
       "      <td>2022-10-26</td>\n",
       "      <td>1</td>\n",
       "      <td>19</td>\n",
       "      <td>balance_2_2</td>\n",
       "    </tr>\n",
       "    <tr>\n",
       "      <th>2</th>\n",
       "      <td>1</td>\n",
       "      <td>2022-10-26</td>\n",
       "      <td>1</td>\n",
       "      <td>20</td>\n",
       "      <td>detox_2_2</td>\n",
       "    </tr>\n",
       "  </tbody>\n",
       "</table>\n",
       "</div>"
      ],
      "text/plain": [
       "   count planned_delivery_date  city_id  production_type_id           name\n",
       "0     34            2022-10-27        2                 185  elementaree_1\n",
       "1    168            2022-10-26        1                  19    balance_2_2\n",
       "2      1            2022-10-26        1                  20      detox_2_2"
      ]
     },
     "execution_count": 5,
     "metadata": {},
     "output_type": "execute_result"
    }
   ],
   "source": [
    "fact_deliveries_count = pd.read_csv(root / 'fact_deliveries_count.csv')\n",
    "fact_deliveries_count.head(3)"
   ]
  },
  {
   "cell_type": "code",
   "execution_count": 6,
   "id": "fa8353e8-e5b4-4daf-8604-23c8f77714cc",
   "metadata": {},
   "outputs": [
    {
     "data": {
      "text/html": [
       "<div>\n",
       "<style scoped>\n",
       "    .dataframe tbody tr th:only-of-type {\n",
       "        vertical-align: middle;\n",
       "    }\n",
       "\n",
       "    .dataframe tbody tr th {\n",
       "        vertical-align: top;\n",
       "    }\n",
       "\n",
       "    .dataframe thead th {\n",
       "        text-align: right;\n",
       "    }\n",
       "</style>\n",
       "<table border=\"1\" class=\"dataframe\">\n",
       "  <thead>\n",
       "    <tr style=\"text-align: right;\">\n",
       "      <th></th>\n",
       "      <th>count</th>\n",
       "      <th>planned_delivery_date</th>\n",
       "      <th>city_id</th>\n",
       "      <th>production_type_id</th>\n",
       "      <th>name</th>\n",
       "      <th>product_name</th>\n",
       "    </tr>\n",
       "  </thead>\n",
       "  <tbody>\n",
       "    <tr>\n",
       "      <th>0</th>\n",
       "      <td>34</td>\n",
       "      <td>2022-10-27</td>\n",
       "      <td>2</td>\n",
       "      <td>185</td>\n",
       "      <td>elementaree_1</td>\n",
       "      <td>elementaree</td>\n",
       "    </tr>\n",
       "    <tr>\n",
       "      <th>1</th>\n",
       "      <td>168</td>\n",
       "      <td>2022-10-26</td>\n",
       "      <td>1</td>\n",
       "      <td>19</td>\n",
       "      <td>balance_2_2</td>\n",
       "      <td>balance</td>\n",
       "    </tr>\n",
       "    <tr>\n",
       "      <th>2</th>\n",
       "      <td>1</td>\n",
       "      <td>2022-10-26</td>\n",
       "      <td>1</td>\n",
       "      <td>20</td>\n",
       "      <td>detox_2_2</td>\n",
       "      <td>detox</td>\n",
       "    </tr>\n",
       "  </tbody>\n",
       "</table>\n",
       "</div>"
      ],
      "text/plain": [
       "   count planned_delivery_date  city_id  production_type_id           name  \\\n",
       "0     34            2022-10-27        2                 185  elementaree_1   \n",
       "1    168            2022-10-26        1                  19    balance_2_2   \n",
       "2      1            2022-10-26        1                  20      detox_2_2   \n",
       "\n",
       "  product_name  \n",
       "0  elementaree  \n",
       "1      balance  \n",
       "2        detox  "
      ]
     },
     "execution_count": 6,
     "metadata": {},
     "output_type": "execute_result"
    }
   ],
   "source": [
    "f = lambda s: s.split('_')[0]\n",
    "fact_deliveries_count = fact_deliveries_count.assign(product_name=fact_deliveries_count.name.apply(f))\n",
    "fact_deliveries_count.head(3)"
   ]
  },
  {
   "cell_type": "markdown",
   "id": "445fcd18-7a4b-4edd-8d26-6ca9ba066b01",
   "metadata": {
    "tags": []
   },
   "source": [
    "# make dataset"
   ]
  },
  {
   "cell_type": "code",
   "execution_count": 7,
   "id": "f34cd93c-dd52-4553-b3bd-47efb4fd8820",
   "metadata": {},
   "outputs": [
    {
     "data": {
      "text/html": [
       "<div>\n",
       "<style scoped>\n",
       "    .dataframe tbody tr th:only-of-type {\n",
       "        vertical-align: middle;\n",
       "    }\n",
       "\n",
       "    .dataframe tbody tr th {\n",
       "        vertical-align: top;\n",
       "    }\n",
       "\n",
       "    .dataframe thead th {\n",
       "        text-align: right;\n",
       "    }\n",
       "</style>\n",
       "<table border=\"1\" class=\"dataframe\">\n",
       "  <thead>\n",
       "    <tr style=\"text-align: right;\">\n",
       "      <th></th>\n",
       "      <th>date</th>\n",
       "      <th>orders_count</th>\n",
       "      <th>new_orders_count</th>\n",
       "      <th>deliveries_count</th>\n",
       "    </tr>\n",
       "  </thead>\n",
       "  <tbody>\n",
       "    <tr>\n",
       "      <th>0</th>\n",
       "      <td>2017-08-13</td>\n",
       "      <td>20</td>\n",
       "      <td>2</td>\n",
       "      <td>290</td>\n",
       "    </tr>\n",
       "    <tr>\n",
       "      <th>1</th>\n",
       "      <td>2017-08-16</td>\n",
       "      <td>15</td>\n",
       "      <td>8</td>\n",
       "      <td>343</td>\n",
       "    </tr>\n",
       "    <tr>\n",
       "      <th>2</th>\n",
       "      <td>2017-08-18</td>\n",
       "      <td>45</td>\n",
       "      <td>21</td>\n",
       "      <td>130</td>\n",
       "    </tr>\n",
       "  </tbody>\n",
       "</table>\n",
       "</div>"
      ],
      "text/plain": [
       "         date  orders_count  new_orders_count  deliveries_count\n",
       "0  2017-08-13            20                 2               290\n",
       "1  2017-08-16            15                 8               343\n",
       "2  2017-08-18            45                21               130"
      ]
     },
     "execution_count": 7,
     "metadata": {},
     "output_type": "execute_result"
    }
   ],
   "source": [
    "city_id = 1\n",
    "product = 'balance'\n",
    "\n",
    "df1 = orders_count[(orders_count.city_id == city_id) & (orders_count.product_name == product)]\n",
    "df2 = new_orders_count[(new_orders_count.city_id == city_id) & (new_orders_count.product_name == product)]\n",
    "df3 = fact_deliveries_count[(fact_deliveries_count.city_id == city_id) & \n",
    "                            (fact_deliveries_count.product_name == product)] \\\n",
    "            .rename({'planned_delivery_date': 'date'}, axis=1) \\\n",
    "            .drop_duplicates('date')\n",
    "cols = ['date', 'count']\n",
    "\n",
    "df = pd.merge(df1[cols], df2[cols], on='date')\n",
    "df = df.rename(dict(count_x='orders_count',\n",
    "                    count_y='new_orders_count'), axis=1)\n",
    "df = pd.merge(df, df3[cols], on='date').rename(dict(count='deliveries_count'), axis=1)\n",
    "df.sort_values('date', inplace=True)\n",
    "df.head(3)"
   ]
  },
  {
   "cell_type": "code",
   "execution_count": 8,
   "id": "5506553a-9007-47c3-b396-d5421478451f",
   "metadata": {},
   "outputs": [],
   "source": [
    "def fill_nan_dates(subdf: pd.DataFrame) -> pd.DataFrame:\n",
    "    d = subdf.copy()\n",
    "    d.index = pd.to_datetime(d.date)\n",
    "    d = d.drop('date', axis=1)\n",
    "\n",
    "    d = d.asfreq('1d')\n",
    "    d.fillna(method='ffill', inplace=True)\n",
    "    d = d.reset_index()\n",
    "    return d\n",
    "\n",
    "df = fill_nan_dates(df)\n",
    "df = df.iloc[-200:]"
   ]
  },
  {
   "cell_type": "code",
   "execution_count": 9,
   "id": "b741b5b5-e5df-4321-8e8a-23cc67633f4a",
   "metadata": {},
   "outputs": [
    {
     "data": {
      "text/html": [
       "<div>\n",
       "<style scoped>\n",
       "    .dataframe tbody tr th:only-of-type {\n",
       "        vertical-align: middle;\n",
       "    }\n",
       "\n",
       "    .dataframe tbody tr th {\n",
       "        vertical-align: top;\n",
       "    }\n",
       "\n",
       "    .dataframe thead th {\n",
       "        text-align: right;\n",
       "    }\n",
       "</style>\n",
       "<table border=\"1\" class=\"dataframe\">\n",
       "  <thead>\n",
       "    <tr style=\"text-align: right;\">\n",
       "      <th></th>\n",
       "      <th>timestamp</th>\n",
       "      <th>orders_count</th>\n",
       "      <th>new_orders_count</th>\n",
       "      <th>target</th>\n",
       "      <th>segment</th>\n",
       "    </tr>\n",
       "  </thead>\n",
       "  <tbody>\n",
       "    <tr>\n",
       "      <th>1701</th>\n",
       "      <td>2022-04-10</td>\n",
       "      <td>78.0</td>\n",
       "      <td>4.0</td>\n",
       "      <td>294.0</td>\n",
       "      <td>main</td>\n",
       "    </tr>\n",
       "    <tr>\n",
       "      <th>1702</th>\n",
       "      <td>2022-04-11</td>\n",
       "      <td>78.0</td>\n",
       "      <td>5.0</td>\n",
       "      <td>181.0</td>\n",
       "      <td>main</td>\n",
       "    </tr>\n",
       "    <tr>\n",
       "      <th>1703</th>\n",
       "      <td>2022-04-12</td>\n",
       "      <td>92.0</td>\n",
       "      <td>6.0</td>\n",
       "      <td>298.0</td>\n",
       "      <td>main</td>\n",
       "    </tr>\n",
       "    <tr>\n",
       "      <th>1704</th>\n",
       "      <td>2022-04-13</td>\n",
       "      <td>64.0</td>\n",
       "      <td>5.0</td>\n",
       "      <td>209.0</td>\n",
       "      <td>main</td>\n",
       "    </tr>\n",
       "    <tr>\n",
       "      <th>1705</th>\n",
       "      <td>2022-04-14</td>\n",
       "      <td>78.0</td>\n",
       "      <td>9.0</td>\n",
       "      <td>285.0</td>\n",
       "      <td>main</td>\n",
       "    </tr>\n",
       "  </tbody>\n",
       "</table>\n",
       "</div>"
      ],
      "text/plain": [
       "      timestamp  orders_count  new_orders_count  target segment\n",
       "1701 2022-04-10          78.0               4.0   294.0    main\n",
       "1702 2022-04-11          78.0               5.0   181.0    main\n",
       "1703 2022-04-12          92.0               6.0   298.0    main\n",
       "1704 2022-04-13          64.0               5.0   209.0    main\n",
       "1705 2022-04-14          78.0               9.0   285.0    main"
      ]
     },
     "execution_count": 9,
     "metadata": {},
     "output_type": "execute_result"
    }
   ],
   "source": [
    "df = df.rename(dict(date='timestamp', deliveries_count='target'), axis=1) \\\n",
    "       .assign(segment='main')\n",
    "df.head()"
   ]
  },
  {
   "cell_type": "code",
   "execution_count": 10,
   "id": "d05b6054-3c15-41b4-a3a1-4dac1b28c243",
   "metadata": {},
   "outputs": [],
   "source": [
    "df_raw = df.copy()"
   ]
  },
  {
   "cell_type": "code",
   "execution_count": 11,
   "id": "0b00edff-3a6e-4281-ba89-a5203bbf9f33",
   "metadata": {},
   "outputs": [
    {
     "data": {
      "text/html": [
       "<div>\n",
       "<style scoped>\n",
       "    .dataframe tbody tr th:only-of-type {\n",
       "        vertical-align: middle;\n",
       "    }\n",
       "\n",
       "    .dataframe tbody tr th {\n",
       "        vertical-align: top;\n",
       "    }\n",
       "\n",
       "    .dataframe thead th {\n",
       "        text-align: right;\n",
       "    }\n",
       "</style>\n",
       "<table border=\"1\" class=\"dataframe\">\n",
       "  <thead>\n",
       "    <tr style=\"text-align: right;\">\n",
       "      <th></th>\n",
       "      <th>timestamp</th>\n",
       "      <th>orders_count</th>\n",
       "      <th>new_orders_count</th>\n",
       "      <th>target</th>\n",
       "      <th>segment</th>\n",
       "    </tr>\n",
       "  </thead>\n",
       "  <tbody>\n",
       "    <tr>\n",
       "      <th>1701</th>\n",
       "      <td>2022-04-10</td>\n",
       "      <td>78.0</td>\n",
       "      <td>4.0</td>\n",
       "      <td>294.0</td>\n",
       "      <td>main</td>\n",
       "    </tr>\n",
       "    <tr>\n",
       "      <th>1702</th>\n",
       "      <td>2022-04-11</td>\n",
       "      <td>78.0</td>\n",
       "      <td>5.0</td>\n",
       "      <td>181.0</td>\n",
       "      <td>main</td>\n",
       "    </tr>\n",
       "    <tr>\n",
       "      <th>1703</th>\n",
       "      <td>2022-04-12</td>\n",
       "      <td>92.0</td>\n",
       "      <td>6.0</td>\n",
       "      <td>298.0</td>\n",
       "      <td>main</td>\n",
       "    </tr>\n",
       "    <tr>\n",
       "      <th>1704</th>\n",
       "      <td>2022-04-13</td>\n",
       "      <td>64.0</td>\n",
       "      <td>5.0</td>\n",
       "      <td>209.0</td>\n",
       "      <td>main</td>\n",
       "    </tr>\n",
       "    <tr>\n",
       "      <th>1705</th>\n",
       "      <td>2022-04-14</td>\n",
       "      <td>78.0</td>\n",
       "      <td>9.0</td>\n",
       "      <td>285.0</td>\n",
       "      <td>main</td>\n",
       "    </tr>\n",
       "  </tbody>\n",
       "</table>\n",
       "</div>"
      ],
      "text/plain": [
       "      timestamp  orders_count  new_orders_count  target segment\n",
       "1701 2022-04-10          78.0               4.0   294.0    main\n",
       "1702 2022-04-11          78.0               5.0   181.0    main\n",
       "1703 2022-04-12          92.0               6.0   298.0    main\n",
       "1704 2022-04-13          64.0               5.0   209.0    main\n",
       "1705 2022-04-14          78.0               9.0   285.0    main"
      ]
     },
     "execution_count": 11,
     "metadata": {},
     "output_type": "execute_result"
    }
   ],
   "source": [
    "df_raw.head()"
   ]
  },
  {
   "cell_type": "markdown",
   "id": "ec9c11a7-28b6-49ef-9956-31876698333a",
   "metadata": {},
   "source": [
    "# corr"
   ]
  },
  {
   "cell_type": "code",
   "execution_count": 19,
   "id": "c3e8f102-1f11-441f-b4ee-36692aa8ae5d",
   "metadata": {},
   "outputs": [
    {
     "name": "stdout",
     "output_type": "stream",
     "text": [
      "2 0.16 0.021\n",
      "7 0.17 0.019\n",
      "9 0.20 0.005\n"
     ]
    }
   ],
   "source": [
    "from scipy.stats.stats import pearsonr\n",
    "\n",
    "for lag in range(0, 14):\n",
    "    x = df_raw.target\n",
    "    y = df_raw.new_orders_count\n",
    "    \n",
    "    if lag != 0:\n",
    "        x = x.iloc[:-lag]\n",
    "        y = y.iloc[lag:]\n",
    "    \n",
    "    corr, p = pearsonr(x, y)\n",
    "    \n",
    "    if p < 0.05:\n",
    "        print(f'{lag} {corr:.2f} {p:.3f}')"
   ]
  },
  {
   "cell_type": "code",
   "execution_count": 18,
   "id": "ed5d7e8d-9db8-490a-aa82-ececb5b15754",
   "metadata": {},
   "outputs": [
    {
     "name": "stdout",
     "output_type": "stream",
     "text": [
      "0 0.43 0.000\n",
      "5 0.36 0.000\n",
      "6 -0.15 0.041\n",
      "7 0.27 0.000\n",
      "12 0.28 0.000\n",
      "13 -0.22 0.002\n"
     ]
    }
   ],
   "source": [
    "from scipy.stats.stats import pearsonr\n",
    "\n",
    "for lag in range(0, 14):\n",
    "    x = df_raw.target\n",
    "    y = df_raw.orders_count\n",
    "    \n",
    "    if lag != 0:\n",
    "        x = x.iloc[:-lag]\n",
    "        y = y.iloc[lag:]\n",
    "    \n",
    "    corr, p = pearsonr(x, y)\n",
    "    if p < 0.05:\n",
    "        print(f'{lag} {corr:.2f} {p:.3f}')"
   ]
  },
  {
   "cell_type": "code",
   "execution_count": null,
   "id": "9114f3cd-688e-4775-88f2-e297a2a918f3",
   "metadata": {},
   "outputs": [],
   "source": []
  }
 ],
 "metadata": {
  "kernelspec": {
   "display_name": "Python 3 (ipykernel)",
   "language": "python",
   "name": "python3"
  },
  "language_info": {
   "codemirror_mode": {
    "name": "ipython",
    "version": 3
   },
   "file_extension": ".py",
   "mimetype": "text/x-python",
   "name": "python",
   "nbconvert_exporter": "python",
   "pygments_lexer": "ipython3",
   "version": "3.9.12"
  }
 },
 "nbformat": 4,
 "nbformat_minor": 5
}
