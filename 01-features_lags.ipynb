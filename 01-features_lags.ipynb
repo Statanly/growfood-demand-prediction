{
 "cells": [
  {
   "cell_type": "code",
   "execution_count": 1,
   "id": "32ca18f8-e332-4ac8-8251-ec52a7280a8b",
   "metadata": {},
   "outputs": [],
   "source": [
    "from pathlib import Path\n",
    "import matplotlib.pyplot as plt\n",
    "import pandas as pd\n",
    "\n",
    "import warnings\n",
    "\n",
    "warnings.filterwarnings(\"ignore\")"
   ]
  },
  {
   "cell_type": "code",
   "execution_count": 2,
   "id": "dd1dc574-59c4-4693-9092-0c5c78d79c71",
   "metadata": {},
   "outputs": [],
   "source": [
    "from scipy.stats.stats import pearsonr\n",
    "\n",
    "def corr(df: pd.DataFrame, col1: str, col2: str):\n",
    "    for lag in range(0, 14):\n",
    "        x = df[col1]\n",
    "        y = df[col2]\n",
    "\n",
    "        if lag != 0:\n",
    "            x = x.iloc[:-lag]\n",
    "            y = y.iloc[lag:]\n",
    "\n",
    "        corr, p = pearsonr(x, y)\n",
    "\n",
    "        if p < 0.05:\n",
    "            print(f'{lag} {corr:.2f} {p:.2f}')"
   ]
  },
  {
   "cell_type": "code",
   "execution_count": 3,
   "id": "e4563a22-a4dc-47d5-98f0-a9b054b7aa1a",
   "metadata": {},
   "outputs": [],
   "source": [
    "def make_df(table1: pd.DataFrame, table2: pd.DataFrame) -> pd.DataFrame:\n",
    "    city_id = 1\n",
    "    product = 'balance'\n",
    "\n",
    "    # table1 = new_orders_count\n",
    "    # table2 = orders_count\n",
    "    df1 = table1[(table1.product_name == product) & (table1.city_id == city_id)]\n",
    "    df2 = table2[(table2.product_name == product) & (table2.city_id == city_id)].rename(columns={'count': 'target'})\n",
    "\n",
    "    df = pd.merge(df1, df2[['date', 'target']])\n",
    "    return df"
   ]
  },
  {
   "cell_type": "markdown",
   "id": "7b6d462c-b9ea-41a9-b973-0eea12dc57a6",
   "metadata": {
    "tags": []
   },
   "source": [
    "# load data"
   ]
  },
  {
   "cell_type": "code",
   "execution_count": 4,
   "id": "62988e24-dee2-48eb-b9da-f9e1c8c69e46",
   "metadata": {},
   "outputs": [],
   "source": [
    "tables = [\n",
    " # 'orders_count',\n",
    " 'new_orders_count',\n",
    " 'custom_orders_rate',\n",
    " 'discounts',\n",
    " 'boxes_per_delivery',\n",
    " 'fooddays_per_order'\n",
    "]\n",
    "\n",
    "root = Path('data/processed/')"
   ]
  },
  {
   "cell_type": "code",
   "execution_count": 5,
   "id": "2ed2264c-a8ea-4928-aacc-b956cb600164",
   "metadata": {},
   "outputs": [
    {
     "data": {
      "text/html": [
       "<div>\n",
       "<style scoped>\n",
       "    .dataframe tbody tr th:only-of-type {\n",
       "        vertical-align: middle;\n",
       "    }\n",
       "\n",
       "    .dataframe tbody tr th {\n",
       "        vertical-align: top;\n",
       "    }\n",
       "\n",
       "    .dataframe thead th {\n",
       "        text-align: right;\n",
       "    }\n",
       "</style>\n",
       "<table border=\"1\" class=\"dataframe\">\n",
       "  <thead>\n",
       "    <tr style=\"text-align: right;\">\n",
       "      <th></th>\n",
       "      <th>date</th>\n",
       "      <th>count</th>\n",
       "      <th>product_name</th>\n",
       "      <th>city_id</th>\n",
       "    </tr>\n",
       "  </thead>\n",
       "  <tbody>\n",
       "    <tr>\n",
       "      <th>0</th>\n",
       "      <td>2017-01-04</td>\n",
       "      <td>0.0</td>\n",
       "      <td>fit</td>\n",
       "      <td>2</td>\n",
       "    </tr>\n",
       "    <tr>\n",
       "      <th>1</th>\n",
       "      <td>2017-01-06</td>\n",
       "      <td>57.0</td>\n",
       "      <td>fit</td>\n",
       "      <td>2</td>\n",
       "    </tr>\n",
       "    <tr>\n",
       "      <th>2</th>\n",
       "      <td>2017-01-07</td>\n",
       "      <td>0.0</td>\n",
       "      <td>fit</td>\n",
       "      <td>2</td>\n",
       "    </tr>\n",
       "  </tbody>\n",
       "</table>\n",
       "</div>"
      ],
      "text/plain": [
       "         date  count product_name  city_id\n",
       "0  2017-01-04    0.0          fit        2\n",
       "1  2017-01-06   57.0          fit        2\n",
       "2  2017-01-07    0.0          fit        2"
      ]
     },
     "execution_count": 5,
     "metadata": {},
     "output_type": "execute_result"
    }
   ],
   "source": [
    "orders_count = pd.read_csv(root / 'orders_count.csv')\n",
    "orders_count.head(3)"
   ]
  },
  {
   "cell_type": "code",
   "execution_count": 6,
   "id": "edfbe369-3de4-43c9-b850-e8f0b7eb9033",
   "metadata": {},
   "outputs": [],
   "source": [
    "ts = {tname: pd.read_csv(root / f'{tname}.csv') for tname in tables}"
   ]
  },
  {
   "cell_type": "code",
   "execution_count": 7,
   "id": "f091a99f-9f83-4ad3-b6ba-343fb7acf46a",
   "metadata": {},
   "outputs": [
    {
     "name": "stdout",
     "output_type": "stream",
     "text": [
      "new_orders_count\n",
      "0 0.48 0.00\n",
      "1 0.36 0.00\n",
      "2 0.30 0.00\n",
      "3 0.27 0.00\n",
      "4 0.26 0.00\n",
      "5 0.25 0.00\n",
      "6 0.27 0.00\n",
      "7 0.21 0.00\n",
      "8 0.21 0.00\n",
      "9 0.20 0.00\n",
      "10 0.19 0.00\n",
      "11 0.21 0.00\n",
      "12 0.21 0.00\n",
      "13 0.21 0.00\n",
      "\n",
      "custom_orders_rate\n",
      "0 0.55 0.00\n",
      "1 0.51 0.00\n",
      "2 0.53 0.00\n",
      "3 0.52 0.00\n",
      "4 0.51 0.00\n",
      "5 0.53 0.00\n",
      "6 0.51 0.00\n",
      "7 0.53 0.00\n",
      "8 0.52 0.00\n",
      "9 0.51 0.00\n",
      "10 0.52 0.00\n",
      "11 0.50 0.00\n",
      "12 0.52 0.00\n",
      "13 0.50 0.00\n",
      "\n",
      "discounts\n",
      "0 0.19 0.00\n",
      "1 0.20 0.00\n",
      "2 0.09 0.00\n",
      "3 0.18 0.00\n",
      "4 0.17 0.00\n",
      "5 0.15 0.00\n",
      "6 0.19 0.00\n",
      "7 0.15 0.00\n",
      "8 0.18 0.00\n",
      "9 0.09 0.00\n",
      "10 0.18 0.00\n",
      "11 0.18 0.00\n",
      "12 0.17 0.00\n",
      "13 0.20 0.00\n",
      "\n",
      "boxes_per_delivery\n",
      "0 -0.34 0.00\n",
      "1 -0.34 0.00\n",
      "2 -0.33 0.00\n",
      "3 -0.32 0.00\n",
      "4 -0.33 0.00\n",
      "5 -0.32 0.00\n",
      "6 -0.32 0.00\n",
      "7 -0.34 0.00\n",
      "8 -0.35 0.00\n",
      "9 -0.35 0.00\n",
      "10 -0.35 0.00\n",
      "11 -0.36 0.00\n",
      "12 -0.34 0.00\n",
      "13 -0.34 0.00\n",
      "\n",
      "fooddays_per_order\n",
      "1 -0.11 0.00\n",
      "3 -0.15 0.00\n",
      "4 -0.06 0.01\n",
      "5 -0.09 0.00\n",
      "6 -0.10 0.00\n",
      "7 -0.09 0.00\n",
      "8 -0.09 0.00\n",
      "10 -0.13 0.00\n",
      "11 -0.05 0.04\n",
      "12 -0.07 0.00\n",
      "13 -0.09 0.00\n",
      "\n"
     ]
    }
   ],
   "source": [
    "for tname, table in ts.items():\n",
    "    print(tname)\n",
    "    df = make_df(orders_count, table)\n",
    "    corr(df, 'target', 'count')\n",
    "    print()"
   ]
  },
  {
   "cell_type": "code",
   "execution_count": 8,
   "id": "5fad3600-0787-4f70-a797-318a993a7bc1",
   "metadata": {},
   "outputs": [],
   "source": [
    "# autocorrs"
   ]
  },
  {
   "cell_type": "code",
   "execution_count": 9,
   "id": "71cd0641-b227-4298-853b-9888c8b1cf9e",
   "metadata": {},
   "outputs": [
    {
     "data": {
      "text/plain": [
       "<AxesSubplot:>"
      ]
     },
     "execution_count": 9,
     "metadata": {},
     "output_type": "execute_result"
    },
    {
     "data": {
      "image/png": "[encoded data removed]",
      "text/plain": [
       "<Figure size 432x288 with 1 Axes>"
      ]
     },
     "metadata": {
      "needs_background": "light"
     },
     "output_type": "display_data"
    }
   ],
   "source": [
    "ds = df.iloc[-100:]\n",
    "ds['count'].plot()\n",
    "ds.target.plot()"
   ]
  },
  {
   "cell_type": "code",
   "execution_count": 14,
   "id": "9f682a51-8b5d-45ea-989d-16dc84ab130d",
   "metadata": {},
   "outputs": [],
   "source": [
    "# product names\n",
    "\n",
    "lsts = [list(set(df.product_name.tolist())) for df in ts.values()]\n",
    "ls = []\n",
    "for l in lsts:\n",
    "    ls += l"
   ]
  },
  {
   "cell_type": "code",
   "execution_count": 15,
   "id": "98d9e0e8-eeb7-4468-87d7-fda4f62bfe93",
   "metadata": {},
   "outputs": [
    {
     "data": {
      "text/plain": [
       "[('priem', 5),\n",
       " ('perekrestok', 5),\n",
       " ('m_fit', 5),\n",
       " ('bf_pack', 5),\n",
       " ('power', 5),\n",
       " ('gf_adidas', 5),\n",
       " ('balance', 5),\n",
       " ('fit', 5),\n",
       " ('breakfasts_2x', 5),\n",
       " ('super_fit', 5),\n",
       " ('daily', 5),\n",
       " ('samokat', 5),\n",
       " ('fit_express', 5),\n",
       " ('dinner', 5),\n",
       " ('rosneft', 5),\n",
       " ('cv_max', 4),\n",
       " ('daily_trial', 4),\n",
       " ('dsv_dinners', 4),\n",
       " ('dsv_breakfasts', 4),\n",
       " ('fit_trial', 4),\n",
       " ('detox', 4),\n",
       " ('super_detox_2', 4),\n",
       " ('super_detox_1', 4),\n",
       " ('cv_light', 4),\n",
       " ('balance_trial', 4),\n",
       " ('dsv', 4),\n",
       " ('basic', 4),\n",
       " ('priem_plus', 4),\n",
       " ('samokat_7', 4),\n",
       " ('daily plus', 3),\n",
       " ('vega', 3),\n",
       " ('unifood', 3),\n",
       " ('elementaree_1', 2),\n",
       " ('фитнес-бар', 2),\n",
       " ('balance_stock', 1),\n",
       " ('fit_stock', 1),\n",
       " ('fit_plus', 1),\n",
       " ('daily_stock', 1)]"
      ]
     },
     "execution_count": 15,
     "metadata": {},
     "output_type": "execute_result"
    }
   ],
   "source": [
    "from collections import Counter\n",
    "\n",
    "Counter(ls).most_common(100)"
   ]
  },
  {
   "cell_type": "code",
   "execution_count": null,
   "id": "3f1ae313-d478-42b9-a0d3-1890e1f70411",
   "metadata": {},
   "outputs": [],
   "source": []
  }
 ],
 "metadata": {
  "kernelspec": {
   "display_name": "Python 3 (ipykernel)",
   "language": "python",
   "name": "python3"
  },
  "language_info": {
   "codemirror_mode": {
    "name": "ipython",
    "version": 3
   },
   "file_extension": ".py",
   "mimetype": "text/x-python",
   "name": "python",
   "nbconvert_exporter": "python",
   "pygments_lexer": "ipython3",
   "version": "3.9.12"
  }
 },
 "nbformat": 4,
 "nbformat_minor": 5
}
