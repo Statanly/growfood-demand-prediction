{
 "cells": [
  {
   "cell_type": "code",
   "execution_count": 1,
   "id": "dad9d045-e923-47be-b564-951e1551ef08",
   "metadata": {},
   "outputs": [],
   "source": [
    "from pathlib import Path\n",
    "import matplotlib.pyplot as plt\n",
    "import pandas as pd"
   ]
  },
  {
   "cell_type": "markdown",
   "id": "0b8ee1a7-a4fb-417f-9b92-7507f4d8ac41",
   "metadata": {
    "jp-MarkdownHeadingCollapsed": true,
    "tags": []
   },
   "source": [
    "# load data"
   ]
  },
  {
   "cell_type": "code",
   "execution_count": 2,
   "id": "837727a2-9f9a-48b6-bf69-66a1d7e5fbd4",
   "metadata": {},
   "outputs": [],
   "source": [
    "root = Path('data/processed/')"
   ]
  },
  {
   "cell_type": "code",
   "execution_count": 3,
   "id": "d312e9b8-2073-42ff-9a49-a263a96cf3f7",
   "metadata": {},
   "outputs": [
    {
     "data": {
      "text/html": [
       "<div>\n",
       "<style scoped>\n",
       "    .dataframe tbody tr th:only-of-type {\n",
       "        vertical-align: middle;\n",
       "    }\n",
       "\n",
       "    .dataframe tbody tr th {\n",
       "        vertical-align: top;\n",
       "    }\n",
       "\n",
       "    .dataframe thead th {\n",
       "        text-align: right;\n",
       "    }\n",
       "</style>\n",
       "<table border=\"1\" class=\"dataframe\">\n",
       "  <thead>\n",
       "    <tr style=\"text-align: right;\">\n",
       "      <th></th>\n",
       "      <th>date</th>\n",
       "      <th>count</th>\n",
       "      <th>product_name</th>\n",
       "      <th>city_id</th>\n",
       "    </tr>\n",
       "  </thead>\n",
       "  <tbody>\n",
       "    <tr>\n",
       "      <th>0</th>\n",
       "      <td>2017-01-01</td>\n",
       "      <td>1</td>\n",
       "      <td>fit</td>\n",
       "      <td>2</td>\n",
       "    </tr>\n",
       "    <tr>\n",
       "      <th>1</th>\n",
       "      <td>2017-01-03</td>\n",
       "      <td>144</td>\n",
       "      <td>fit</td>\n",
       "      <td>2</td>\n",
       "    </tr>\n",
       "    <tr>\n",
       "      <th>2</th>\n",
       "      <td>2017-01-04</td>\n",
       "      <td>0</td>\n",
       "      <td>fit</td>\n",
       "      <td>2</td>\n",
       "    </tr>\n",
       "  </tbody>\n",
       "</table>\n",
       "</div>"
      ],
      "text/plain": [
       "         date  count product_name  city_id\n",
       "0  2017-01-01      1          fit        2\n",
       "1  2017-01-03    144          fit        2\n",
       "2  2017-01-04      0          fit        2"
      ]
     },
     "execution_count": 3,
     "metadata": {},
     "output_type": "execute_result"
    }
   ],
   "source": [
    "orders_count = pd.read_csv(root / 'orders_count.csv')\n",
    "orders_count.head(3)"
   ]
  },
  {
   "cell_type": "code",
   "execution_count": 4,
   "id": "32c13c07-93fe-48d4-9cb7-531100964e1d",
   "metadata": {},
   "outputs": [
    {
     "data": {
      "text/html": [
       "<div>\n",
       "<style scoped>\n",
       "    .dataframe tbody tr th:only-of-type {\n",
       "        vertical-align: middle;\n",
       "    }\n",
       "\n",
       "    .dataframe tbody tr th {\n",
       "        vertical-align: top;\n",
       "    }\n",
       "\n",
       "    .dataframe thead th {\n",
       "        text-align: right;\n",
       "    }\n",
       "</style>\n",
       "<table border=\"1\" class=\"dataframe\">\n",
       "  <thead>\n",
       "    <tr style=\"text-align: right;\">\n",
       "      <th></th>\n",
       "      <th>date</th>\n",
       "      <th>count</th>\n",
       "      <th>product_name</th>\n",
       "      <th>city_id</th>\n",
       "    </tr>\n",
       "  </thead>\n",
       "  <tbody>\n",
       "    <tr>\n",
       "      <th>0</th>\n",
       "      <td>2017-01-03</td>\n",
       "      <td>22</td>\n",
       "      <td>fit</td>\n",
       "      <td>2</td>\n",
       "    </tr>\n",
       "    <tr>\n",
       "      <th>1</th>\n",
       "      <td>2017-01-04</td>\n",
       "      <td>0</td>\n",
       "      <td>fit</td>\n",
       "      <td>2</td>\n",
       "    </tr>\n",
       "    <tr>\n",
       "      <th>2</th>\n",
       "      <td>2017-01-06</td>\n",
       "      <td>4</td>\n",
       "      <td>fit</td>\n",
       "      <td>2</td>\n",
       "    </tr>\n",
       "  </tbody>\n",
       "</table>\n",
       "</div>"
      ],
      "text/plain": [
       "         date  count product_name  city_id\n",
       "0  2017-01-03     22          fit        2\n",
       "1  2017-01-04      0          fit        2\n",
       "2  2017-01-06      4          fit        2"
      ]
     },
     "execution_count": 4,
     "metadata": {},
     "output_type": "execute_result"
    }
   ],
   "source": [
    "new_orders_count = pd.read_csv(root / 'new_orders_count.csv')\n",
    "new_orders_count.head(3)"
   ]
  },
  {
   "cell_type": "code",
   "execution_count": 5,
   "id": "9cbce12f-c5ac-490a-9967-0b2b2074f2f7",
   "metadata": {},
   "outputs": [
    {
     "data": {
      "text/html": [
       "<div>\n",
       "<style scoped>\n",
       "    .dataframe tbody tr th:only-of-type {\n",
       "        vertical-align: middle;\n",
       "    }\n",
       "\n",
       "    .dataframe tbody tr th {\n",
       "        vertical-align: top;\n",
       "    }\n",
       "\n",
       "    .dataframe thead th {\n",
       "        text-align: right;\n",
       "    }\n",
       "</style>\n",
       "<table border=\"1\" class=\"dataframe\">\n",
       "  <thead>\n",
       "    <tr style=\"text-align: right;\">\n",
       "      <th></th>\n",
       "      <th>count</th>\n",
       "      <th>planned_delivery_date</th>\n",
       "      <th>city_id</th>\n",
       "      <th>production_type_id</th>\n",
       "      <th>name</th>\n",
       "    </tr>\n",
       "  </thead>\n",
       "  <tbody>\n",
       "    <tr>\n",
       "      <th>0</th>\n",
       "      <td>34</td>\n",
       "      <td>2022-10-27</td>\n",
       "      <td>2</td>\n",
       "      <td>185</td>\n",
       "      <td>elementaree_1</td>\n",
       "    </tr>\n",
       "    <tr>\n",
       "      <th>1</th>\n",
       "      <td>168</td>\n",
       "      <td>2022-10-26</td>\n",
       "      <td>1</td>\n",
       "      <td>19</td>\n",
       "      <td>balance_2_2</td>\n",
       "    </tr>\n",
       "    <tr>\n",
       "      <th>2</th>\n",
       "      <td>1</td>\n",
       "      <td>2022-10-26</td>\n",
       "      <td>1</td>\n",
       "      <td>20</td>\n",
       "      <td>detox_2_2</td>\n",
       "    </tr>\n",
       "  </tbody>\n",
       "</table>\n",
       "</div>"
      ],
      "text/plain": [
       "   count planned_delivery_date  city_id  production_type_id           name\n",
       "0     34            2022-10-27        2                 185  elementaree_1\n",
       "1    168            2022-10-26        1                  19    balance_2_2\n",
       "2      1            2022-10-26        1                  20      detox_2_2"
      ]
     },
     "execution_count": 5,
     "metadata": {},
     "output_type": "execute_result"
    }
   ],
   "source": [
    "fact_deliveries_count = pd.read_csv(root / 'fact_deliveries_count.csv')\n",
    "fact_deliveries_count.head(3)"
   ]
  },
  {
   "cell_type": "code",
   "execution_count": 6,
   "id": "3e88968c-88be-48f5-ba0b-fc5a7a516ea3",
   "metadata": {},
   "outputs": [
    {
     "data": {
      "text/html": [
       "<div>\n",
       "<style scoped>\n",
       "    .dataframe tbody tr th:only-of-type {\n",
       "        vertical-align: middle;\n",
       "    }\n",
       "\n",
       "    .dataframe tbody tr th {\n",
       "        vertical-align: top;\n",
       "    }\n",
       "\n",
       "    .dataframe thead th {\n",
       "        text-align: right;\n",
       "    }\n",
       "</style>\n",
       "<table border=\"1\" class=\"dataframe\">\n",
       "  <thead>\n",
       "    <tr style=\"text-align: right;\">\n",
       "      <th></th>\n",
       "      <th>count</th>\n",
       "      <th>planned_delivery_date</th>\n",
       "      <th>city_id</th>\n",
       "      <th>production_type_id</th>\n",
       "      <th>name</th>\n",
       "      <th>product_name</th>\n",
       "    </tr>\n",
       "  </thead>\n",
       "  <tbody>\n",
       "    <tr>\n",
       "      <th>0</th>\n",
       "      <td>34</td>\n",
       "      <td>2022-10-27</td>\n",
       "      <td>2</td>\n",
       "      <td>185</td>\n",
       "      <td>elementaree_1</td>\n",
       "      <td>elementaree</td>\n",
       "    </tr>\n",
       "    <tr>\n",
       "      <th>1</th>\n",
       "      <td>168</td>\n",
       "      <td>2022-10-26</td>\n",
       "      <td>1</td>\n",
       "      <td>19</td>\n",
       "      <td>balance_2_2</td>\n",
       "      <td>balance</td>\n",
       "    </tr>\n",
       "    <tr>\n",
       "      <th>2</th>\n",
       "      <td>1</td>\n",
       "      <td>2022-10-26</td>\n",
       "      <td>1</td>\n",
       "      <td>20</td>\n",
       "      <td>detox_2_2</td>\n",
       "      <td>detox</td>\n",
       "    </tr>\n",
       "  </tbody>\n",
       "</table>\n",
       "</div>"
      ],
      "text/plain": [
       "   count planned_delivery_date  city_id  production_type_id           name  \\\n",
       "0     34            2022-10-27        2                 185  elementaree_1   \n",
       "1    168            2022-10-26        1                  19    balance_2_2   \n",
       "2      1            2022-10-26        1                  20      detox_2_2   \n",
       "\n",
       "  product_name  \n",
       "0  elementaree  \n",
       "1      balance  \n",
       "2        detox  "
      ]
     },
     "execution_count": 6,
     "metadata": {},
     "output_type": "execute_result"
    }
   ],
   "source": [
    "f = lambda s: s.split('_')[0]\n",
    "fact_deliveries_count = fact_deliveries_count.assign(product_name=fact_deliveries_count.name.apply(f))\n",
    "fact_deliveries_count.head(3)"
   ]
  },
  {
   "cell_type": "markdown",
   "id": "8c3fa9d6-08ce-4d0f-8d87-a5a6428985d5",
   "metadata": {},
   "source": [
    "# make dataset"
   ]
  },
  {
   "cell_type": "code",
   "execution_count": 7,
   "id": "e9f440db-1b23-496c-94ed-8bb66e9327a6",
   "metadata": {},
   "outputs": [
    {
     "data": {
      "text/html": [
       "<div>\n",
       "<style scoped>\n",
       "    .dataframe tbody tr th:only-of-type {\n",
       "        vertical-align: middle;\n",
       "    }\n",
       "\n",
       "    .dataframe tbody tr th {\n",
       "        vertical-align: top;\n",
       "    }\n",
       "\n",
       "    .dataframe thead th {\n",
       "        text-align: right;\n",
       "    }\n",
       "</style>\n",
       "<table border=\"1\" class=\"dataframe\">\n",
       "  <thead>\n",
       "    <tr style=\"text-align: right;\">\n",
       "      <th></th>\n",
       "      <th>date</th>\n",
       "      <th>orders_count</th>\n",
       "      <th>new_orders_count</th>\n",
       "      <th>deliveries_count</th>\n",
       "    </tr>\n",
       "  </thead>\n",
       "  <tbody>\n",
       "    <tr>\n",
       "      <th>0</th>\n",
       "      <td>2017-08-13</td>\n",
       "      <td>20</td>\n",
       "      <td>2</td>\n",
       "      <td>290</td>\n",
       "    </tr>\n",
       "    <tr>\n",
       "      <th>1</th>\n",
       "      <td>2017-08-16</td>\n",
       "      <td>15</td>\n",
       "      <td>8</td>\n",
       "      <td>343</td>\n",
       "    </tr>\n",
       "    <tr>\n",
       "      <th>2</th>\n",
       "      <td>2017-08-18</td>\n",
       "      <td>45</td>\n",
       "      <td>21</td>\n",
       "      <td>130</td>\n",
       "    </tr>\n",
       "  </tbody>\n",
       "</table>\n",
       "</div>"
      ],
      "text/plain": [
       "         date  orders_count  new_orders_count  deliveries_count\n",
       "0  2017-08-13            20                 2               290\n",
       "1  2017-08-16            15                 8               343\n",
       "2  2017-08-18            45                21               130"
      ]
     },
     "execution_count": 7,
     "metadata": {},
     "output_type": "execute_result"
    }
   ],
   "source": [
    "city_id = 1\n",
    "product = 'balance'\n",
    "\n",
    "df1 = orders_count[(orders_count.city_id == city_id) & (orders_count.product_name == product)]\n",
    "df2 = new_orders_count[(new_orders_count.city_id == city_id) & (new_orders_count.product_name == product)]\n",
    "df3 = fact_deliveries_count[(fact_deliveries_count.city_id == city_id) & \n",
    "                            (fact_deliveries_count.product_name == product)] \\\n",
    "            .rename({'planned_delivery_date': 'date'}, axis=1) \\\n",
    "            .drop_duplicates('date')\n",
    "cols = ['date', 'count']\n",
    "\n",
    "df = pd.merge(df1[cols], df2[cols], on='date')\n",
    "df = df.rename(dict(count_x='orders_count',\n",
    "                    count_y='new_orders_count'), axis=1)\n",
    "df = pd.merge(df, df3[cols], on='date').rename(dict(count='deliveries_count'), axis=1)\n",
    "df.sort_values('date', inplace=True)\n",
    "df.head(3)"
   ]
  },
  {
   "cell_type": "code",
   "execution_count": 8,
   "id": "dd8d6516-4e75-423e-a016-0d1a6b690ad4",
   "metadata": {},
   "outputs": [],
   "source": [
    "def fill_nan_dates(subdf: pd.DataFrame) -> pd.DataFrame:\n",
    "    d = subdf.copy()\n",
    "    d.index = pd.to_datetime(d.date)\n",
    "    d = d.drop('date', axis=1)\n",
    "\n",
    "    d = d.asfreq('1d')\n",
    "    d.fillna(method='ffill', inplace=True)\n",
    "    d = d.reset_index()\n",
    "    return d\n",
    "\n",
    "df = fill_nan_dates(df)\n",
    "df = df.iloc[-200:]"
   ]
  },
  {
   "cell_type": "code",
   "execution_count": 9,
   "id": "376d8c87-5d46-46c5-963b-fb2dff270fc2",
   "metadata": {},
   "outputs": [
    {
     "data": {
      "text/html": [
       "<div>\n",
       "<style scoped>\n",
       "    .dataframe tbody tr th:only-of-type {\n",
       "        vertical-align: middle;\n",
       "    }\n",
       "\n",
       "    .dataframe tbody tr th {\n",
       "        vertical-align: top;\n",
       "    }\n",
       "\n",
       "    .dataframe thead th {\n",
       "        text-align: right;\n",
       "    }\n",
       "</style>\n",
       "<table border=\"1\" class=\"dataframe\">\n",
       "  <thead>\n",
       "    <tr style=\"text-align: right;\">\n",
       "      <th></th>\n",
       "      <th>timestamp</th>\n",
       "      <th>orders_count</th>\n",
       "      <th>new_orders_count</th>\n",
       "      <th>target</th>\n",
       "      <th>segment</th>\n",
       "    </tr>\n",
       "  </thead>\n",
       "  <tbody>\n",
       "    <tr>\n",
       "      <th>1701</th>\n",
       "      <td>2022-04-10</td>\n",
       "      <td>78.0</td>\n",
       "      <td>4.0</td>\n",
       "      <td>294.0</td>\n",
       "      <td>main</td>\n",
       "    </tr>\n",
       "    <tr>\n",
       "      <th>1702</th>\n",
       "      <td>2022-04-11</td>\n",
       "      <td>78.0</td>\n",
       "      <td>5.0</td>\n",
       "      <td>181.0</td>\n",
       "      <td>main</td>\n",
       "    </tr>\n",
       "    <tr>\n",
       "      <th>1703</th>\n",
       "      <td>2022-04-12</td>\n",
       "      <td>92.0</td>\n",
       "      <td>6.0</td>\n",
       "      <td>298.0</td>\n",
       "      <td>main</td>\n",
       "    </tr>\n",
       "    <tr>\n",
       "      <th>1704</th>\n",
       "      <td>2022-04-13</td>\n",
       "      <td>64.0</td>\n",
       "      <td>5.0</td>\n",
       "      <td>209.0</td>\n",
       "      <td>main</td>\n",
       "    </tr>\n",
       "    <tr>\n",
       "      <th>1705</th>\n",
       "      <td>2022-04-14</td>\n",
       "      <td>78.0</td>\n",
       "      <td>9.0</td>\n",
       "      <td>285.0</td>\n",
       "      <td>main</td>\n",
       "    </tr>\n",
       "  </tbody>\n",
       "</table>\n",
       "</div>"
      ],
      "text/plain": [
       "      timestamp  orders_count  new_orders_count  target segment\n",
       "1701 2022-04-10          78.0               4.0   294.0    main\n",
       "1702 2022-04-11          78.0               5.0   181.0    main\n",
       "1703 2022-04-12          92.0               6.0   298.0    main\n",
       "1704 2022-04-13          64.0               5.0   209.0    main\n",
       "1705 2022-04-14          78.0               9.0   285.0    main"
      ]
     },
     "execution_count": 9,
     "metadata": {},
     "output_type": "execute_result"
    }
   ],
   "source": [
    "df = df.rename(dict(date='timestamp', deliveries_count='target'), axis=1) \\\n",
    "       .assign(segment='main')\n",
    "df.head()"
   ]
  },
  {
   "cell_type": "code",
   "execution_count": 10,
   "id": "1946ad32-07cd-4eb6-8996-84916c68367c",
   "metadata": {},
   "outputs": [],
   "source": [
    "df_raw = df.copy()"
   ]
  },
  {
   "cell_type": "code",
   "execution_count": 11,
   "id": "a080bff1-c353-49d9-8730-2bc68d4b196a",
   "metadata": {},
   "outputs": [
    {
     "data": {
      "text/html": [
       "<div>\n",
       "<style scoped>\n",
       "    .dataframe tbody tr th:only-of-type {\n",
       "        vertical-align: middle;\n",
       "    }\n",
       "\n",
       "    .dataframe tbody tr th {\n",
       "        vertical-align: top;\n",
       "    }\n",
       "\n",
       "    .dataframe thead th {\n",
       "        text-align: right;\n",
       "    }\n",
       "</style>\n",
       "<table border=\"1\" class=\"dataframe\">\n",
       "  <thead>\n",
       "    <tr style=\"text-align: right;\">\n",
       "      <th></th>\n",
       "      <th>timestamp</th>\n",
       "      <th>orders_count</th>\n",
       "      <th>new_orders_count</th>\n",
       "      <th>target</th>\n",
       "      <th>segment</th>\n",
       "    </tr>\n",
       "  </thead>\n",
       "  <tbody>\n",
       "    <tr>\n",
       "      <th>1701</th>\n",
       "      <td>2022-04-10</td>\n",
       "      <td>78.0</td>\n",
       "      <td>4.0</td>\n",
       "      <td>294.0</td>\n",
       "      <td>main</td>\n",
       "    </tr>\n",
       "    <tr>\n",
       "      <th>1702</th>\n",
       "      <td>2022-04-11</td>\n",
       "      <td>78.0</td>\n",
       "      <td>5.0</td>\n",
       "      <td>181.0</td>\n",
       "      <td>main</td>\n",
       "    </tr>\n",
       "    <tr>\n",
       "      <th>1703</th>\n",
       "      <td>2022-04-12</td>\n",
       "      <td>92.0</td>\n",
       "      <td>6.0</td>\n",
       "      <td>298.0</td>\n",
       "      <td>main</td>\n",
       "    </tr>\n",
       "    <tr>\n",
       "      <th>1704</th>\n",
       "      <td>2022-04-13</td>\n",
       "      <td>64.0</td>\n",
       "      <td>5.0</td>\n",
       "      <td>209.0</td>\n",
       "      <td>main</td>\n",
       "    </tr>\n",
       "    <tr>\n",
       "      <th>1705</th>\n",
       "      <td>2022-04-14</td>\n",
       "      <td>78.0</td>\n",
       "      <td>9.0</td>\n",
       "      <td>285.0</td>\n",
       "      <td>main</td>\n",
       "    </tr>\n",
       "  </tbody>\n",
       "</table>\n",
       "</div>"
      ],
      "text/plain": [
       "      timestamp  orders_count  new_orders_count  target segment\n",
       "1701 2022-04-10          78.0               4.0   294.0    main\n",
       "1702 2022-04-11          78.0               5.0   181.0    main\n",
       "1703 2022-04-12          92.0               6.0   298.0    main\n",
       "1704 2022-04-13          64.0               5.0   209.0    main\n",
       "1705 2022-04-14          78.0               9.0   285.0    main"
      ]
     },
     "execution_count": 11,
     "metadata": {},
     "output_type": "execute_result"
    }
   ],
   "source": [
    "df_raw.head()"
   ]
  },
  {
   "cell_type": "markdown",
   "id": "9e8b470b-8ca9-45f7-bbe1-6acd09e67aeb",
   "metadata": {},
   "source": [
    "# model rnn"
   ]
  },
  {
   "cell_type": "code",
   "execution_count": 19,
   "id": "0936b19b-9639-446b-bfeb-047fdb56c137",
   "metadata": {},
   "outputs": [],
   "source": [
    "from typing import List, Tuple\n",
    "\n",
    "from torch.utils.data import Dataset, DataLoader\n",
    "from torch import nn\n"
   ]
  },
  {
   "cell_type": "code",
   "execution_count": null,
   "id": "a4f3c20a-13a3-4f70-a82e-09333d0eac32",
   "metadata": {},
   "outputs": [],
   "source": [
    "class TSDataset():\n",
    "    def __init__(self, ts: pd.DataFrame, window: int):\n",
    "        self._records = list(ts.drop('timestamp', axis=1).to_records(index=False))\n",
    "        self._window = window\n",
    "        \n",
    "    def __len__(self):\n",
    "        return ts - window\n",
    "    \n",
    "    def __getitem__(self, ix: int) -> Tuple[List[List[float]], float]:\n",
    "        rows = self._records[ix: ix + self._window]\n",
    "        "
   ]
  },
  {
   "cell_type": "code",
   "execution_count": null,
   "id": "b48888e3-c2f7-4cd7-947d-de1ac71094dd",
   "metadata": {},
   "outputs": [],
   "source": []
  },
  {
   "cell_type": "code",
   "execution_count": null,
   "id": "92b0fe1d-a52a-44cb-97e1-88c4111b7b16",
   "metadata": {},
   "outputs": [],
   "source": []
  },
  {
   "cell_type": "code",
   "execution_count": null,
   "id": "8459d266-86dd-494c-9c52-f69479e0154f",
   "metadata": {},
   "outputs": [],
   "source": []
  },
  {
   "cell_type": "code",
   "execution_count": null,
   "id": "fa44c8f4-07f2-454a-b67c-3515d37f0770",
   "metadata": {},
   "outputs": [],
   "source": []
  }
 ],
 "metadata": {
  "kernelspec": {
   "display_name": "Python 3 (ipykernel)",
   "language": "python",
   "name": "python3"
  },
  "language_info": {
   "codemirror_mode": {
    "name": "ipython",
    "version": 3
   },
   "file_extension": ".py",
   "mimetype": "text/x-python",
   "name": "python",
   "nbconvert_exporter": "python",
   "pygments_lexer": "ipython3",
   "version": "3.9.12"
  }
 },
 "nbformat": 4,
 "nbformat_minor": 5
}
